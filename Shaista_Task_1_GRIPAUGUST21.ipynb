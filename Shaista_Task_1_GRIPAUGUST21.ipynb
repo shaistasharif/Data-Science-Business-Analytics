{
  "nbformat": 4,
  "nbformat_minor": 5,
  "metadata": {
    "kernelspec": {
      "display_name": "Python 3",
      "language": "python",
      "name": "python3"
    },
    "language_info": {
      "codemirror_mode": {
        "name": "ipython",
        "version": 3
      },
      "file_extension": ".py",
      "mimetype": "text/x-python",
      "name": "python",
      "nbconvert_exporter": "python",
      "pygments_lexer": "ipython3",
      "version": "3.8.8"
    },
    "colab": {
      "name": "Shaista_Task_1_GRIPAUGUST21",
      "provenance": [],
      "collapsed_sections": []
    }
  },
  "cells": [
    {
      "cell_type": "markdown",
      "metadata": {
        "id": "60c2ee3d"
      },
      "source": [
        "# Company : The Sparks Foundation (TSF)\n",
        "\n",
        "# Program : Data Science & Business Analytics\n",
        "\n",
        "# Name : Shaista Sharif\n",
        "\n",
        "# Task 1 : Prediction using Supervised ML\n",
        "\n",
        "# **GRIPAUGUST21**\n",
        "\n"
      ],
      "id": "60c2ee3d"
    },
    {
      "cell_type": "code",
      "metadata": {
        "id": "7f4940fb"
      },
      "source": [
        "import numpy as np\n",
        "import pandas as pd\n",
        "import matplotlib.pyplot as plt\n",
        "from sklearn.model_selection import train_test_split\n",
        "from sklearn.linear_model import LinearRegression\n",
        "from sklearn.metrics import r2_score,mean_absolute_error"
      ],
      "id": "7f4940fb",
      "execution_count": 18,
      "outputs": []
    },
    {
      "cell_type": "code",
      "metadata": {
        "colab": {
          "base_uri": "https://localhost:8080/",
          "height": 221
        },
        "id": "bf45786d",
        "outputId": "c034f2d9-82de-4d5f-9fd5-56a510098898"
      },
      "source": [
        "inputs=pd.read_csv('https://raw.githubusercontent.com/AdiPersonalWorks/Random/master/student_scores%20-%20student_scores.csv')\n",
        "print(inputs.shape)\n",
        "inputs.head()"
      ],
      "id": "bf45786d",
      "execution_count": 19,
      "outputs": [
        {
          "output_type": "stream",
          "text": [
            "(25, 2)\n"
          ],
          "name": "stdout"
        },
        {
          "output_type": "execute_result",
          "data": {
            "text/html": [
              "<div>\n",
              "<style scoped>\n",
              "    .dataframe tbody tr th:only-of-type {\n",
              "        vertical-align: middle;\n",
              "    }\n",
              "\n",
              "    .dataframe tbody tr th {\n",
              "        vertical-align: top;\n",
              "    }\n",
              "\n",
              "    .dataframe thead th {\n",
              "        text-align: right;\n",
              "    }\n",
              "</style>\n",
              "<table border=\"1\" class=\"dataframe\">\n",
              "  <thead>\n",
              "    <tr style=\"text-align: right;\">\n",
              "      <th></th>\n",
              "      <th>Hours</th>\n",
              "      <th>Scores</th>\n",
              "    </tr>\n",
              "  </thead>\n",
              "  <tbody>\n",
              "    <tr>\n",
              "      <th>0</th>\n",
              "      <td>2.5</td>\n",
              "      <td>21</td>\n",
              "    </tr>\n",
              "    <tr>\n",
              "      <th>1</th>\n",
              "      <td>5.1</td>\n",
              "      <td>47</td>\n",
              "    </tr>\n",
              "    <tr>\n",
              "      <th>2</th>\n",
              "      <td>3.2</td>\n",
              "      <td>27</td>\n",
              "    </tr>\n",
              "    <tr>\n",
              "      <th>3</th>\n",
              "      <td>8.5</td>\n",
              "      <td>75</td>\n",
              "    </tr>\n",
              "    <tr>\n",
              "      <th>4</th>\n",
              "      <td>3.5</td>\n",
              "      <td>30</td>\n",
              "    </tr>\n",
              "  </tbody>\n",
              "</table>\n",
              "</div>"
            ],
            "text/plain": [
              "   Hours  Scores\n",
              "0    2.5      21\n",
              "1    5.1      47\n",
              "2    3.2      27\n",
              "3    8.5      75\n",
              "4    3.5      30"
            ]
          },
          "metadata": {
            "tags": []
          },
          "execution_count": 19
        }
      ]
    },
    {
      "cell_type": "code",
      "metadata": {
        "colab": {
          "base_uri": "https://localhost:8080/",
          "height": 322
        },
        "id": "932524a7",
        "outputId": "e17bc024-8d96-417a-f533-e9599670abfa"
      },
      "source": [
        "inputs.plot(x='Hours' , y='Scores',style = '*')\n",
        "plt.title('Hours vs Percentage',size=20)\n",
        "plt.xlabel('Hours studied',size=15)\n",
        "plt.ylabel('Percentage secured',size=15)"
      ],
      "id": "932524a7",
      "execution_count": 20,
      "outputs": [
        {
          "output_type": "execute_result",
          "data": {
            "text/plain": [
              "Text(0, 0.5, 'Percentage secured')"
            ]
          },
          "metadata": {
            "tags": []
          },
          "execution_count": 20
        },
        {
          "output_type": "display_data",
          "data": {
            "image/png": "[encoded data removed]",
            "text/plain": [
              "<Figure size 432x288 with 1 Axes>"
            ]
          },
          "metadata": {
            "tags": [],
            "needs_background": "light"
          }
        }
      ]
    },
    {
      "cell_type": "code",
      "metadata": {
        "colab": {
          "base_uri": "https://localhost:8080/",
          "height": 111
        },
        "id": "505157af",
        "outputId": "076ff3ae-bdaa-4c02-e01f-f14499aa0266"
      },
      "source": [
        "inputs.corr()"
      ],
      "id": "505157af",
      "execution_count": 21,
      "outputs": [
        {
          "output_type": "execute_result",
          "data": {
            "text/html": [
              "<div>\n",
              "<style scoped>\n",
              "    .dataframe tbody tr th:only-of-type {\n",
              "        vertical-align: middle;\n",
              "    }\n",
              "\n",
              "    .dataframe tbody tr th {\n",
              "        vertical-align: top;\n",
              "    }\n",
              "\n",
              "    .dataframe thead th {\n",
              "        text-align: right;\n",
              "    }\n",
              "</style>\n",
              "<table border=\"1\" class=\"dataframe\">\n",
              "  <thead>\n",
              "    <tr style=\"text-align: right;\">\n",
              "      <th></th>\n",
              "      <th>Hours</th>\n",
              "      <th>Scores</th>\n",
              "    </tr>\n",
              "  </thead>\n",
              "  <tbody>\n",
              "    <tr>\n",
              "      <th>Hours</th>\n",
              "      <td>1.000000</td>\n",
              "      <td>0.976191</td>\n",
              "    </tr>\n",
              "    <tr>\n",
              "      <th>Scores</th>\n",
              "      <td>0.976191</td>\n",
              "      <td>1.000000</td>\n",
              "    </tr>\n",
              "  </tbody>\n",
              "</table>\n",
              "</div>"
            ],
            "text/plain": [
              "           Hours    Scores\n",
              "Hours   1.000000  0.976191\n",
              "Scores  0.976191  1.000000"
            ]
          },
          "metadata": {
            "tags": []
          },
          "execution_count": 21
        }
      ]
    },
    {
      "cell_type": "code",
      "metadata": {
        "id": "f66ecae7"
      },
      "source": [
        "x=inputs.iloc[:, :-1].values\n",
        "y=inputs.iloc[:, 1].values"
      ],
      "id": "f66ecae7",
      "execution_count": 22,
      "outputs": []
    },
    {
      "cell_type": "code",
      "metadata": {
        "colab": {
          "base_uri": "https://localhost:8080/"
        },
        "id": "ff2c66e0",
        "outputId": "744550a1-d876-41e7-f335-5c1642ec5072"
      },
      "source": [
        "x,y"
      ],
      "id": "ff2c66e0",
      "execution_count": 23,
      "outputs": [
        {
          "output_type": "execute_result",
          "data": {
            "text/plain": [
              "(array([[2.5],\n",
              "        [5.1],\n",
              "        [3.2],\n",
              "        [8.5],\n",
              "        [3.5],\n",
              "        [1.5],\n",
              "        [9.2],\n",
              "        [5.5],\n",
              "        [8.3],\n",
              "        [2.7],\n",
              "        [7.7],\n",
              "        [5.9],\n",
              "        [4.5],\n",
              "        [3.3],\n",
              "        [1.1],\n",
              "        [8.9],\n",
              "        [2.5],\n",
              "        [1.9],\n",
              "        [6.1],\n",
              "        [7.4],\n",
              "        [2.7],\n",
              "        [4.8],\n",
              "        [3.8],\n",
              "        [6.9],\n",
              "        [7.8]]),\n",
              " array([21, 47, 27, 75, 30, 20, 88, 60, 81, 25, 85, 62, 41, 42, 17, 95, 30,\n",
              "        24, 67, 69, 30, 54, 35, 76, 86]))"
            ]
          },
          "metadata": {
            "tags": []
          },
          "execution_count": 23
        }
      ]
    },
    {
      "cell_type": "code",
      "metadata": {
        "id": "e830d96d"
      },
      "source": [
        "x_train,x_test,y_train,y_test= train_test_split(x,y,test_size=0.25,random_state=0)"
      ],
      "id": "e830d96d",
      "execution_count": 24,
      "outputs": []
    },
    {
      "cell_type": "code",
      "metadata": {
        "colab": {
          "base_uri": "https://localhost:8080/"
        },
        "id": "378ae176",
        "outputId": "24a718c8-7f63-442f-e23d-f40898d5ceb3"
      },
      "source": [
        "model=LinearRegression()\n",
        "model.fit(x,y)"
      ],
      "id": "378ae176",
      "execution_count": 25,
      "outputs": [
        {
          "output_type": "execute_result",
          "data": {
            "text/plain": [
              "LinearRegression(copy_X=True, fit_intercept=True, n_jobs=None, normalize=False)"
            ]
          },
          "metadata": {
            "tags": []
          },
          "execution_count": 25
        }
      ]
    },
    {
      "cell_type": "code",
      "metadata": {
        "colab": {
          "base_uri": "https://localhost:8080/"
        },
        "id": "dc344599",
        "outputId": "b465ea71-ca18-445e-bdea-9c1e3b2d3003"
      },
      "source": [
        "model.coef_ "
      ],
      "id": "dc344599",
      "execution_count": 26,
      "outputs": [
        {
          "output_type": "execute_result",
          "data": {
            "text/plain": [
              "array([9.77580339])"
            ]
          },
          "metadata": {
            "tags": []
          },
          "execution_count": 26
        }
      ]
    },
    {
      "cell_type": "code",
      "metadata": {
        "colab": {
          "base_uri": "https://localhost:8080/"
        },
        "id": "36c11d05",
        "outputId": "8d73965f-d605-4dd2-c488-116fa1197851"
      },
      "source": [
        "model.intercept_"
      ],
      "id": "36c11d05",
      "execution_count": 27,
      "outputs": [
        {
          "output_type": "execute_result",
          "data": {
            "text/plain": [
              "2.48367340537321"
            ]
          },
          "metadata": {
            "tags": []
          },
          "execution_count": 27
        }
      ]
    },
    {
      "cell_type": "markdown",
      "metadata": {
        "id": "1c446225"
      },
      "source": [
        "# Predicting Model Linear Regression"
      ],
      "id": "1c446225"
    },
    {
      "cell_type": "code",
      "metadata": {
        "colab": {
          "base_uri": "https://localhost:8080/",
          "height": 300
        },
        "id": "d0229e5b",
        "outputId": "005e4d1d-24cb-4a82-ab41-f86b8701ae67"
      },
      "source": [
        "prediction = model.coef_*x + model.intercept_\n",
        "\n",
        "plt.scatter(x,y)\n",
        "plt.plot(x,prediction,c='red')\n",
        "plt.title('Linear Regression plot',size=20)\n",
        "plt.xlabel('Hours studied')\n",
        "plt.ylabel('Percentage Secure')\n",
        "plt.show()"
      ],
      "id": "d0229e5b",
      "execution_count": 28,
      "outputs": [
        {
          "output_type": "display_data",
          "data": {
            "image/png": "[encoded data removed]",
            "text/plain": [
              "<Figure size 432x288 with 1 Axes>"
            ]
          },
          "metadata": {
            "tags": [],
            "needs_background": "light"
          }
        }
      ]
    },
    {
      "cell_type": "code",
      "metadata": {
        "colab": {
          "base_uri": "https://localhost:8080/"
        },
        "id": "546e9c17",
        "outputId": "9136048f-6724-4b58-a91b-eaaab47f290c"
      },
      "source": [
        "y_predic = model.predict(x_test)\n",
        "y_predic"
      ],
      "id": "546e9c17",
      "execution_count": 29,
      "outputs": [
        {
          "output_type": "execute_result",
          "data": {
            "text/plain": [
              "array([17.14737849, 33.76624426, 74.8246185 , 26.92318188, 60.16091341,\n",
              "       39.63172629, 21.05769985])"
            ]
          },
          "metadata": {
            "tags": []
          },
          "execution_count": 29
        }
      ]
    },
    {
      "cell_type": "markdown",
      "metadata": {
        "id": "4e607e4d"
      },
      "source": [
        "# Reference Table for Predicted and Actual Value"
      ],
      "id": "4e607e4d"
    },
    {
      "cell_type": "code",
      "metadata": {
        "colab": {
          "base_uri": "https://localhost:8080/",
          "height": 266
        },
        "id": "a14f50e2",
        "outputId": "03cae3b8-46b2-4be5-b755-385881c7abba"
      },
      "source": [
        "df=pd.DataFrame({'Study Hours' : x_test.flatten(), 'Actual Scores' : y_test , 'Predicted Scores' : y_predic})\n",
        "df"
      ],
      "id": "a14f50e2",
      "execution_count": 30,
      "outputs": [
        {
          "output_type": "execute_result",
          "data": {
            "text/html": [
              "<div>\n",
              "<style scoped>\n",
              "    .dataframe tbody tr th:only-of-type {\n",
              "        vertical-align: middle;\n",
              "    }\n",
              "\n",
              "    .dataframe tbody tr th {\n",
              "        vertical-align: top;\n",
              "    }\n",
              "\n",
              "    .dataframe thead th {\n",
              "        text-align: right;\n",
              "    }\n",
              "</style>\n",
              "<table border=\"1\" class=\"dataframe\">\n",
              "  <thead>\n",
              "    <tr style=\"text-align: right;\">\n",
              "      <th></th>\n",
              "      <th>Study Hours</th>\n",
              "      <th>Actual Scores</th>\n",
              "      <th>Predicted Scores</th>\n",
              "    </tr>\n",
              "  </thead>\n",
              "  <tbody>\n",
              "    <tr>\n",
              "      <th>0</th>\n",
              "      <td>1.5</td>\n",
              "      <td>20</td>\n",
              "      <td>17.147378</td>\n",
              "    </tr>\n",
              "    <tr>\n",
              "      <th>1</th>\n",
              "      <td>3.2</td>\n",
              "      <td>27</td>\n",
              "      <td>33.766244</td>\n",
              "    </tr>\n",
              "    <tr>\n",
              "      <th>2</th>\n",
              "      <td>7.4</td>\n",
              "      <td>69</td>\n",
              "      <td>74.824618</td>\n",
              "    </tr>\n",
              "    <tr>\n",
              "      <th>3</th>\n",
              "      <td>2.5</td>\n",
              "      <td>30</td>\n",
              "      <td>26.923182</td>\n",
              "    </tr>\n",
              "    <tr>\n",
              "      <th>4</th>\n",
              "      <td>5.9</td>\n",
              "      <td>62</td>\n",
              "      <td>60.160913</td>\n",
              "    </tr>\n",
              "    <tr>\n",
              "      <th>5</th>\n",
              "      <td>3.8</td>\n",
              "      <td>35</td>\n",
              "      <td>39.631726</td>\n",
              "    </tr>\n",
              "    <tr>\n",
              "      <th>6</th>\n",
              "      <td>1.9</td>\n",
              "      <td>24</td>\n",
              "      <td>21.057700</td>\n",
              "    </tr>\n",
              "  </tbody>\n",
              "</table>\n",
              "</div>"
            ],
            "text/plain": [
              "   Study Hours  Actual Scores  Predicted Scores\n",
              "0          1.5             20         17.147378\n",
              "1          3.2             27         33.766244\n",
              "2          7.4             69         74.824618\n",
              "3          2.5             30         26.923182\n",
              "4          5.9             62         60.160913\n",
              "5          3.8             35         39.631726\n",
              "6          1.9             24         21.057700"
            ]
          },
          "metadata": {
            "tags": []
          },
          "execution_count": 30
        }
      ]
    },
    {
      "cell_type": "code",
      "metadata": {
        "colab": {
          "base_uri": "https://localhost:8080/",
          "height": 300
        },
        "id": "3592287b",
        "outputId": "e4cb291a-2d65-413f-b564-0ae987780fc8"
      },
      "source": [
        "plt.scatter(x=x_test, y=y_test ,color='green')\n",
        "plt.plot(x_test,y_predic,color='red')\n",
        "plt.title('Actual Score vs Predicted Score',size = 20)\n",
        "plt.xlabel('Hours Studied',)\n",
        "plt.ylabel('Percentage Secured')\n",
        "plt.show()"
      ],
      "id": "3592287b",
      "execution_count": 31,
      "outputs": [
        {
          "output_type": "display_data",
          "data": {
            "image/png": "[encoded data removed]",
            "text/plain": [
              "<Figure size 432x288 with 1 Axes>"
            ]
          },
          "metadata": {
            "tags": [],
            "needs_background": "light"
          }
        }
      ]
    },
    {
      "cell_type": "markdown",
      "metadata": {
        "id": "ec46a9bd"
      },
      "source": [
        "# Finding R2 Value for The Model"
      ],
      "id": "ec46a9bd"
    },
    {
      "cell_type": "code",
      "metadata": {
        "colab": {
          "base_uri": "https://localhost:8080/"
        },
        "id": "e833e6ae",
        "outputId": "f36b94db-6962-4be2-e87c-53fe0dc011de"
      },
      "source": [
        "r2 = r2_score(y_test,y_predic)\n",
        "print('The R2 value for the Model is',r2)"
      ],
      "id": "e833e6ae",
      "execution_count": 32,
      "outputs": [
        {
          "output_type": "stream",
          "text": [
            "The R2 value for the Model is 0.9418866898421842\n"
          ],
          "name": "stdout"
        }
      ]
    },
    {
      "cell_type": "markdown",
      "metadata": {
        "id": "29a9d578"
      },
      "source": [
        "# Finding Mean Absolute Error for the Model"
      ],
      "id": "29a9d578"
    },
    {
      "cell_type": "code",
      "metadata": {
        "colab": {
          "base_uri": "https://localhost:8080/"
        },
        "id": "bb4949e4",
        "outputId": "6801552c-ce35-473a-dc23-cf8b79c6b4ee"
      },
      "source": [
        "mean_error = mean_absolute_error(y_test,y_predic)\n",
        "print(\"Mean Absolute Error for the Model is\",mean_error)"
      ],
      "id": "bb4949e4",
      "execution_count": 33,
      "outputs": [
        {
          "output_type": "stream",
          "text": [
            "Mean Absolute Error for the Model is 3.9904879158106015\n"
          ],
          "name": "stdout"
        }
      ]
    },
    {
      "cell_type": "markdown",
      "metadata": {
        "id": "ee0fb0cf"
      },
      "source": [
        "# Finding the Predicted Score for the Given Input x"
      ],
      "id": "ee0fb0cf"
    },
    {
      "cell_type": "code",
      "metadata": {
        "colab": {
          "base_uri": "https://localhost:8080/"
        },
        "id": "b1ce26ad",
        "outputId": "770011c1-16ac-4dcf-ab51-958719223b69"
      },
      "source": [
        "given_input_predic = model.predict([[9.25]])\n",
        "print(\"If a particular student studies for 9.25 hours , then the predicted score will be\",format(given_input_predic[0]))"
      ],
      "id": "b1ce26ad",
      "execution_count": 34,
      "outputs": [
        {
          "output_type": "stream",
          "text": [
            "If a particular student studies for 9.25 hours , then the predicted score will be 92.9098547701573\n"
          ],
          "name": "stdout"
        }
      ]
    }
  ]
}